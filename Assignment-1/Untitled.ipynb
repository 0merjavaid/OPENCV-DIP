{
 "cells": [
  {
   "cell_type": "code",
   "execution_count": 23,
   "metadata": {
    "collapsed": false
   },
   "outputs": [],
   "source": [
    "#Task 7 number of red, yello and blue circles\n",
    "import cv2,numpy as np\n",
    "import matplotlib.pyplot as plt\n",
    "def threshold(image,color):\n",
    "    if(color==\"red\"):\n",
    "        image[(image[:,:,2]<=120) ]=[255,255,255]\n",
    "        image[(image[:,:,1]>=120) ]=[255,255,255]\n",
    "    elif(color==\"blue\"):\n",
    "        image[(image[:,:,0]<=120)]=[255,255,255]\n",
    "    elif(color==\"yellow\"):\n",
    "        image[(image[:,:,1]<=120)]=[255,255,255]\n",
    "    else:\n",
    "        print \"color not found,\\n Red or Yellow or Blue\"\n",
    "    return image\n",
    "img=cv2.imread(\"blobs.png\")\n",
    "blue=threshold(img.copy(),\"blue\")\n",
    "yellow=threshold(img.copy(),\"yellow\")\n",
    "red=threshold(img.copy(),\"red\")\n",
    "cv2.imshow(\"blue\",blue)\n",
    "cv2.imshow(\"yellow\",yellow)\n",
    "cv2.imshow(\"red\",red)\n",
    "\n",
    "cv2.waitKey()\n",
    "cv2.destroyAllWindows()"
   ]
  },
  {
   "cell_type": "code",
   "execution_count": 41,
   "metadata": {
    "collapsed": false
   },
   "outputs": [
    {
     "name": "stdout",
     "output_type": "stream",
     "text": [
      "26\n"
     ]
    }
   ],
   "source": [
    "img = cv2.cvtColor(blue, cv2.COLOR_RGB2GRAY ) \n",
    "dd=img.copy()\n",
    "dd[img>190]=0\n",
    "dd[img<=190]=255\n",
    "connectivity = 4  \n",
    "# Perform the operation\n",
    "output = cv2.connectedComponentsWithStats(dd, connectivity, cv2.CV_32S)\n",
    "# Get the results\n",
    "# The first cell is the number of labels\n",
    "num_labels = output[0]-1\n",
    "print num_labels\n",
    "\n",
    "cv2.imshow(\"the\",dd)\n",
    "cv2.waitKey()\n",
    "cv2.destroyAllWindows()"
   ]
  },
  {
   "cell_type": "code",
   "execution_count": null,
   "metadata": {
    "collapsed": true
   },
   "outputs": [],
   "source": []
  }
 ],
 "metadata": {
  "kernelspec": {
   "display_name": "Python 2",
   "language": "python",
   "name": "python2"
  },
  "language_info": {
   "codemirror_mode": {
    "name": "ipython",
    "version": 2
   },
   "file_extension": ".py",
   "mimetype": "text/x-python",
   "name": "python",
   "nbconvert_exporter": "python",
   "pygments_lexer": "ipython2",
   "version": "2.7.13"
  }
 },
 "nbformat": 4,
 "nbformat_minor": 2
}
