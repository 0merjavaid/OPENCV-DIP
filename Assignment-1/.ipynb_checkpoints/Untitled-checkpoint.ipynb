{
 "cells": [
  {
   "cell_type": "code",
   "execution_count": 7,
   "metadata": {
    "collapsed": false
   },
   "outputs": [],
   "source": [
    "#Task 7 number of red, yello and blue circles\n",
    "import cv2,numpy as np\n",
    "import matplotlib.pyplot as plt\n",
    "def threshold(image,color):\n",
    "    if(color==\"red\"):\n",
    "        image[(image[:,:,2]<=120)*(image[:,:,1]>120)]=[255,255,255]\n",
    "    elif(color==\"blue\"):\n",
    "        image[(image[:,:,0]<=120)]=[255,255,255]\n",
    "    elif(color==\"yellow\"):\n",
    "        image[(image[:,:,1]<=120)]=[255,255,255]\n",
    "    else:\n",
    "        print \"color not found,\\n Red or Yellow or Blue\"\n",
    "    return image\n",
    "\n",
    "blue=threshold(cv2.imread(\"blobs.png\"),\"blue\")\n",
    "yellow=threshold(cv2.imread(\"blobs.png\"),\"yellow\")\n",
    "red=threshold(cv2.imread(\"blobs.png\"),\"red\")\n",
    "cv2.imshow(\"blue\",blue)\n",
    "cv2.imshow(\"yellow\",yellow)\n",
    "#cv2.imshow(\"red\",red)\n",
    "\n",
    "cv2.waitKey()\n",
    "cv2.destroyAllWindows()"
   ]
  },
  {
   "cell_type": "code",
   "execution_count": null,
   "metadata": {
    "collapsed": true
   },
   "outputs": [],
   "source": [
    "\n"
   ]
  }
 ],
 "metadata": {
  "kernelspec": {
   "display_name": "Python 2",
   "language": "python",
   "name": "python2"
  },
  "language_info": {
   "codemirror_mode": {
    "name": "ipython",
    "version": 2
   },
   "file_extension": ".py",
   "mimetype": "text/x-python",
   "name": "python",
   "nbconvert_exporter": "python",
   "pygments_lexer": "ipython2",
   "version": "2.7.13"
  }
 },
 "nbformat": 4,
 "nbformat_minor": 2
}
