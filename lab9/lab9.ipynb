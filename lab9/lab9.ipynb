{
 "cells": [
  {
   "cell_type": "code",
   "execution_count": null,
   "metadata": {
    "collapsed": false
   },
   "outputs": [],
   "source": [
    "\"\"\"\n",
    "Name Muhammad Umer Javaid\n",
    "111238\n",
    "\n",
    "\"\"\"\n",
    "import numpy as np\n",
    "import cv2\n",
    "import matplotlib.pyplot as plt\n",
    "from skimage.morphology import reconstruction"
   ]
  },
  {
   "cell_type": "code",
   "execution_count": null,
   "metadata": {
    "collapsed": false
   },
   "outputs": [],
   "source": [
    "im=cv2.imread(\"tools.png\",0)\n",
    "kernel =np.ones((3,3))\n",
    "\n",
    "kernel=cv2.getStructuringElement(cv2.MORPH_CROSS,(3,3))\n",
    "print kernel \n",
    "erosion = cv2.erode(im,kernel,iterations = 1)\n",
    "dilation = cv2.dilate(im,kernel,iterations = 1)\n",
    "opening = cv2.morphologyEx(im, cv2.MORPH_OPEN, kernel)\n",
    "closing = cv2.morphologyEx(im, cv2.MORPH_CLOSE, kernel)\n",
    "f, (ax1, ax2, ax3,ax4) = plt.subplots(4, figsize=(8, 20),sharex=True, sharey=True)\n",
    "ax1.imshow(erosion,cmap=\"gray\")\n",
    "ax1.set_title(\"Erosion\")\n",
    "ax2.imshow(dilation,cmap=\"gray\")\n",
    "ax2.set_title(\"Dilation\")\n",
    "ax3.imshow(opening,cmap=\"gray\")\n",
    "ax3.set_title(\"Openening\")\n",
    "ax4.imshow(closing,cmap=\"gray\")\n",
    "ax4.set_title(\"Closing\")\n",
    "plt.show()"
   ]
  },
  {
   "cell_type": "code",
   "execution_count": null,
   "metadata": {
    "collapsed": false
   },
   "outputs": [],
   "source": [
    "#Task2\n",
    "im=cv2.imread(\"tools.png\",0)\n",
    "print im\n",
    "kernel=cv2.getStructuringElement(cv2.MORPH_CROSS,(5,5))\n",
    "opening = cv2.morphologyEx(im, cv2.MORPH_OPEN, kernel)\n",
    "O_C = cv2.morphologyEx(opening, cv2.MORPH_CLOSE, kernel)\n",
    "\n",
    "closing = cv2.morphologyEx(im, cv2.MORPH_CLOSE, kernel)\n",
    "C_O = cv2.morphologyEx(closing, cv2.MORPH_OPEN, kernel)\n",
    "f, (ax1, ax2) = plt.subplots(2, figsize=(8, 20),sharex=True, sharey=True)\n",
    "ax1.imshow(O_C,cmap=\"gray\")\n",
    "ax1.set_title(\"Openening then closing\")\n",
    "ax2.imshow(C_O,cmap=\"gray\")\n",
    "ax2.set_title(\"Closing then openeing\")\n",
    " \n",
    "plt.show()"
   ]
  },
  {
   "cell_type": "code",
   "execution_count": null,
   "metadata": {
    "collapsed": false
   },
   "outputs": [],
   "source": [
    "#Task 3\n",
    "import cv2;\n",
    "import numpy as np;\n",
    " \n",
    "def imfill(im_in):\n",
    "    im_in=255-im_in \n",
    "    # Threshold.\n",
    "    # Set values equal to or above 220 to 0.\n",
    "    # Set values below 220 to 255.\n",
    "\n",
    "    th, im_th = cv2.threshold(im_in, 220, 255, cv2.THRESH_BINARY_INV);\n",
    "\n",
    "    # Copy the thresholded image.\n",
    "    im_floodfill = im_th.copy()\n",
    "\n",
    "    # Mask used to flood filling.\n",
    "    # Notice the size needs to be 2 pixels than the image.\n",
    "    h, w = im_th.shape[:2]\n",
    "    mask = np.zeros((h+2, w+2), np.uint8)\n",
    "\n",
    "    # Floodfill from point (0, 0)\n",
    "    cv2.floodFill(im_floodfill, mask, (0,0), 255);\n",
    "\n",
    "    # Invert floodfilled image\n",
    "    im_floodfill_inv = cv2.bitwise_not(im_floodfill)\n",
    "\n",
    "    # Combine the two images to get the foreground.\n",
    "    im_out = im_th | im_floodfill_inv\n",
    "\n",
    "    return im_out\n",
    "\n",
    "\n",
    "def task_3():\n",
    "    im=cv2.imread(\"tools.png\",0)\n",
    "    CH=imfill(im)\n",
    "    \n",
    "    kernel=cv2.getStructuringElement(cv2.MORPH_CROSS,(5,5))\n",
    "    img=CH-im\n",
    "    H=cv2.morphologyEx(img, cv2.MORPH_OPEN, kernel)\n",
    "    final= cv2.morphologyEx(CH, cv2.MORPH_OPEN, kernel)\n",
    "    final=final-H\n",
    "    f, (ax1, ax2, ax3,ax4) = plt.subplots(4, figsize=(8, 20),sharex=True, sharey=True)\n",
    "    ax1.imshow(im,cmap=\"gray\")\n",
    "    ax1.set_title(\"Original\")\n",
    "    ax2.imshow(CH,cmap=\"gray\")\n",
    "    ax2.set_title(\"IMFILL\")\n",
    "    ax3.imshow(img,cmap=\"gray\")\n",
    "    ax3.set_title(\"CH - im\")\n",
    "    ax4.imshow(final,cmap=\"gray\")\n",
    "    ax4.set_title(\"fINAL\")\n",
    "    plt.show()\n",
    "task_3() "
   ]
  },
  {
   "cell_type": "code",
   "execution_count": null,
   "metadata": {
    "collapsed": true
   },
   "outputs": [],
   "source": [
    "#task 4\n"
   ]
  },
  {
   "cell_type": "code",
   "execution_count": null,
   "metadata": {
    "collapsed": true
   },
   "outputs": [],
   "source": []
  }
 ],
 "metadata": {
  "kernelspec": {
   "display_name": "Python 2",
   "language": "python",
   "name": "python2"
  },
  "language_info": {
   "codemirror_mode": {
    "name": "ipython",
    "version": 2
   },
   "file_extension": ".py",
   "mimetype": "text/x-python",
   "name": "python",
   "nbconvert_exporter": "python",
   "pygments_lexer": "ipython2",
   "version": "2.7.13"
  }
 },
 "nbformat": 4,
 "nbformat_minor": 2
}
