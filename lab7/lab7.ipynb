{
 "cells": [
  {
   "cell_type": "code",
   "execution_count": 22,
   "metadata": {
    "collapsed": false
   },
   "outputs": [],
   "source": [
    "import cv2,numpy as np\n",
    "# Read the image you want connected components of\n",
    "src = cv2.imread('text.png',0)\n",
    "# Threshold it so it becomes binary\n",
    "ret, thresh = cv2.threshold(src,0,255,128)\n",
    "# You need to choose 4 or 8 for connectivity type\n",
    "connectivity = 4  \n",
    "# Perform the operation\n",
    "thresh=thresh.astype(float)\n",
    "thresh=255-thresh\n",
    "thresh[thresh<0]=0\n",
    "thresh[thresh>255]=255\n",
    "thresh=thresh.astype(\"uint8\")\n",
    "output = cv2.connectedComponentsWithStats(thresh, connectivity, cv2.CV_32S)\n",
    "# Get the results\n",
    "# The first cell is the number of labels\n",
    "num_labels = output[0]\n",
    "# The second cell is the label matrix\n",
    "labels = output[1]\n",
    "# The third cell is the stat matrix\n",
    "stats = output[2]\n",
    "# The fourth cell is the centroid matrix\n",
    "centroids = output[3] \n",
    "\n",
    "for label in range(num_labels-1):\n",
    "    name=\"images/im\"+str(label)+\".png\"\n",
    "    im=np.where(labels==label)\n",
    "    a=np.min(im[0])\n",
    "    b=np.max(im[0])\n",
    "    c=np.min(im[1])\n",
    "    d=np.max(im[1])\n",
    "    \n",
    "    char=thresh[a:b,c:d]\n",
    "    cv2.imwrite(name,char)"
   ]
  },
  {
   "cell_type": "code",
   "execution_count": null,
   "metadata": {
    "collapsed": true
   },
   "outputs": [],
   "source": []
  },
  {
   "cell_type": "code",
   "execution_count": null,
   "metadata": {
    "collapsed": true
   },
   "outputs": [],
   "source": []
  }
 ],
 "metadata": {
  "kernelspec": {
   "display_name": "Python 2",
   "language": "python",
   "name": "python2"
  },
  "language_info": {
   "codemirror_mode": {
    "name": "ipython",
    "version": 2
   },
   "file_extension": ".py",
   "mimetype": "text/x-python",
   "name": "python",
   "nbconvert_exporter": "python",
   "pygments_lexer": "ipython2",
   "version": "2.7.13"
  }
 },
 "nbformat": 4,
 "nbformat_minor": 2
}
