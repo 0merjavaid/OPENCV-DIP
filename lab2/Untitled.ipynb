{
 "cells": [
  {
   "cell_type": "code",
   "execution_count": 2,
   "metadata": {
    "collapsed": false
   },
   "outputs": [
    {
     "data": {
      "text/plain": [
       "'cv2.imshow(\"image\",image)\\ncv2.waitKey(0)'"
      ]
     },
     "execution_count": 2,
     "metadata": {},
     "output_type": "execute_result"
    }
   ],
   "source": [
    "import cv2,numpy as np\n",
    "\n",
    "image=cv2.imread(\"lab2-task2-image.jpg\")\n",
    "\"\"\"cv2.imshow(\"image\",image)\n",
    "cv2.waitKey(0)\"\"\""
   ]
  },
  {
   "cell_type": "code",
   "execution_count": null,
   "metadata": {
    "collapsed": false
   },
   "outputs": [],
   "source": [
    "image[(image[:,:,0]>=120)*(image[:,:,1]<120)]=[255,0,255]\n",
    "image[(image[:,:,1]>=120)*(image[:,:,0]<120)]=[255,255,0]\n",
    "\n",
    "image[(image[:,:,2]>=120)*(image[:,:,0]<120)]=[0,255,255]\n",
    "\n",
    "cv2.imshow(\"image\",image)\n",
    "cv2.waitKey(0)"
   ]
  },
  {
   "cell_type": "code",
   "execution_count": null,
   "metadata": {
    "collapsed": true
   },
   "outputs": [],
   "source": []
  }
 ],
 "metadata": {
  "kernelspec": {
   "display_name": "Python 2",
   "language": "python",
   "name": "python2"
  },
  "language_info": {
   "codemirror_mode": {
    "name": "ipython",
    "version": 2
   },
   "file_extension": ".py",
   "mimetype": "text/x-python",
   "name": "python",
   "nbconvert_exporter": "python",
   "pygments_lexer": "ipython2",
   "version": "2.7.13"
  }
 },
 "nbformat": 4,
 "nbformat_minor": 2
}
