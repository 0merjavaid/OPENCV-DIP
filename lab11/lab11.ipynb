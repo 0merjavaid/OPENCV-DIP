{
 "cells": [
  {
   "cell_type": "code",
   "execution_count": 64,
   "metadata": {},
   "outputs": [],
   "source": [
    "import cv2, numpy as np\n",
    "from skimage import data, exposure, img_as_float\n",
    "import matplotlib.pyplot as plt"
   ]
  },
  {
   "cell_type": "code",
   "execution_count": 32,
   "metadata": {},
   "outputs": [],
   "source": []
  },
  {
   "cell_type": "code",
   "execution_count": 66,
   "metadata": {},
   "outputs": [
    {
     "name": "stdout",
     "output_type": "stream",
     "text": [
      "[[0 0 0 ..., 0 0 0]\n",
      " [0 0 0 ..., 0 0 0]\n",
      " [0 0 0 ..., 0 0 0]\n",
      " ..., \n",
      " [0 0 0 ..., 0 0 0]\n",
      " [0 0 0 ..., 0 0 0]\n",
      " [0 0 0 ..., 0 0 0]]\n"
     ]
    },
    {
     "data": {
      "image/png": "[encoded data removed]",
      "text/plain": [
       "<matplotlib.figure.Figure at 0x7f9d20ca4d50>"
      ]
     },
     "metadata": {},
     "output_type": "display_data"
    }
   ],
   "source": [
    "im=cv2.imread(\"../lab10/output2.jpg\",0)\n",
    "b = np.unpackbits(im, axis=1)\n",
    "shape= im.shape\n",
    "a = np.array([[2], [7], [23]], dtype=np.uint8)\n",
    " \n",
    "c= b.reshape(584,-1,8)\n",
    "d=np.logical_or(np.logical_or(c[:,:,0],c[:,:,1]), c[:,:,2]).astype(\"uint8\")\n",
    "\"\"\"cv2.imshow(\"asd\", (np.logical_or(np.logical_or(c[:,:,0],c[:,:,1]), c[:,:,2]).astype(\"uint8\"))*255)\n",
    "cv2.waitKey(0)\n",
    "cv2.destroyAllWindows()\"\"\"\n",
    "e=exposure.equalize_adapthist(d)\n",
    "print (np.logical_or(c[:,:,0],c[:,:,1]).astype(\"uint8\"))*255\n",
    "plt.imshow(e,cmap=\"gray\")\n",
    "plt.show()"
   ]
  },
  {
   "cell_type": "code",
   "execution_count": 85,
   "metadata": {},
   "outputs": [
    {
     "data": {
      "image/png": "[encoded data removed]",
      "text/plain": [
       "<matplotlib.figure.Figure at 0x7f9d32e25050>"
      ]
     },
     "metadata": {},
     "output_type": "display_data"
    }
   ],
   "source": [
    "#Task 3\n",
    "from scipy import ndimage \n",
    "im1=cv2.imread(\"blobs.png\",0)\n",
    "structure1 = np.array([0,0,0,0,0,\n",
    "                      0,0,0,0,0,\n",
    "                      0,1,1,0,0,\n",
    "                      0,0,1,0,0,\n",
    "                      0,0,0,0,0]).reshape(5,5)\n",
    "\n",
    "structure2 = np.array([0,0,0,0,0,\n",
    "                      1,1,1,1,0,\n",
    "                      0,0,0,1,0,\n",
    "                      0,0,0,1,0,\n",
    "                      0,0,0,1,0]).reshape(5,5) \n",
    "\n",
    "\n",
    "\n",
    "structure1 = np.array([0,0,0,0,0,\n",
    "                      0,1,0,0,0,\n",
    "                      0,1,0,0,0,\n",
    "                      0,1,1,1,0,\n",
    "                      0,0,0,0,0]).reshape(5,5)\n",
    "\n",
    "structure2 = np.array([0,0,0,0,0,\n",
    "                      0,1,0,0,0,\n",
    "                      0,1,0,0,0,\n",
    "                      0,1,1,1,0,\n",
    "                      0,0,0,0,0]).reshape(5,5) \n",
    "f=ndimage.binary_hit_or_miss(im, structure1=structure1,structure2=structure2).astype(np.int)\n",
    "plt.imshow(f,cmap=\"gray\")\n",
    "plt.show()"
   ]
  },
  {
   "cell_type": "code",
   "execution_count": null,
   "metadata": {},
   "outputs": [],
   "source": [
    "#task4 The answer is same\n",
    "#task5 there is no difer"
   ]
  }
 ],
 "metadata": {
  "kernelspec": {
   "display_name": "Python 2",
   "language": "python",
   "name": "python2"
  },
  "language_info": {
   "codemirror_mode": {
    "name": "ipython",
    "version": 2
   },
   "file_extension": ".py",
   "mimetype": "text/x-python",
   "name": "python",
   "nbconvert_exporter": "python",
   "pygments_lexer": "ipython2",
   "version": "2.7.14"
  }
 },
 "nbformat": 4,
 "nbformat_minor": 2
}
